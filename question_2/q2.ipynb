{
 "cells": [
  {
   "cell_type": "markdown",
   "id": "685c1718-5dd8-43e9-b5d9-863e5312fca6",
   "metadata": {},
   "source": [
    "# Question 2: Convert from Binary to Decimal\n",
    "- Write a Python program that converts a Binary number into its equivalent Decimal number.\n",
    "- The program should start reading the binary number from the user. Then the decimal equivalent number must be calculated. \n",
    "- Finally, the program must display the equivalent decimal number on the screen.\n",
    "Tips: solve input errors."
   ]
  },
  {
   "cell_type": "markdown",
   "id": "78323125-aa4d-4e63-9703-3bc68efca7d4",
   "metadata": {},
   "source": [
    "## Understanding the problem: \n",
    "This program prompts the user for a binary number, validates the input, converts it to a decimal number, and displays the result. \n",
    "### Step by Step Algorithm:\n",
    "1. Prompt the user to enter a binary number.\n",
    "2. Validate the input to ensure it is a binary number.\n",
    "3. Convert the valid binary number to a decimal number.\n",
    "4. Display the decimal equivalent."
   ]
  },
  {
   "cell_type": "markdown",
   "id": "cb1afaaf-de68-4aa2-80f9-6c45d8f49ac5",
   "metadata": {},
   "source": [
    "<img src='bi_to_de.png' style =\"width:400px;height:400px\">"
   ]
  },
  {
   "cell_type": "markdown",
   "id": "92874df8-fdea-4dc0-bcda-8a3b81b8aa4a",
   "metadata": {},
   "source": [
    "## formula: Decimal = binary x 2<sup>power</sup>\n",
    "* binary: refers to the individual bits (0 or 1) of the binary number, read from right to left.\n",
    "* power: is the position of each bit, starting from 0 on the rightmost side and increasing by 1 for each bit moving to the left.\n",
    "### Example Calculation: Let's use the binary number \"10101\" as an example:\n",
    "1. Rightmost bit: For the rightmost bit (1), the power is 0, so the calculation is: 1 x 2<sup>0</sup> = 1.\n",
    "2. Next bit: Moving one position to the left, the bit is 0, and the power is 1, so the calculation is: 0 x 2<sup>1</sup> = 0.\n",
    "3. Next bit: Moving one more position to the left, the bit is 1, and the power is 2, so the calculation is: 1 x 2<sup>2</sup> = 4.\n",
    "4. Next bit: Moving further left, the bit is 0, and the power is 3, so the calculation is: 0 x 2<sup>3</sup> = 0.\n",
    "5. Leftmost bit: Finally, for the leftmost bit, the bit is 1, and the power is 4, so the calculation is: 1 x 2<sup>4</sup> = 16.\n",
    "6. Sum: Finally, sum up all the calculated values: 1 + 0 + 4 + 0 + 16 = 21."
   ]
  },
  {
   "cell_type": "code",
   "execution_count": 5,
   "id": "35efea11-a224-4657-a1d0-8253d52fb972",
   "metadata": {},
   "outputs": [],
   "source": [
    "# ------ Check the input: ----------\n",
    "def CheckTheValidationOfInput(n):\n",
    "    for i in n: \n",
    "        if i not in '01':\n",
    "            return False\n",
    "        \n",
    "    return True"
   ]
  },
  {
   "cell_type": "markdown",
   "id": "55b67478-3deb-4f10-abeb-5083502905f3",
   "metadata": {},
   "source": [
    "# How `CheckTheValidationOfInput(n)` works: \n",
    "1. Start by defining a function named CheckTheValidationOfInput(n) that checks the validity of the input binary number. This function takes a binary number as input.\n",
    "2. Iterate over each character in the binary number.\n",
    "3. Check if each character is either '0' or '1'. If any character is not '0' or '1', return False to indicate an invalid binary number.\n",
    "4. If all characters pass the check, return True to indicate a valid binary number."
   ]
  },
  {
   "cell_type": "code",
   "execution_count": 6,
   "id": "5c1f6816-979e-4a8a-bf14-269bdf2124a0",
   "metadata": {},
   "outputs": [],
   "source": [
    "# -------- function to convert binary to decimal: --------\n",
    "def binaryToDecimal(binary_str):\n",
    "    # Convert binary string to decimal\n",
    "    decimal_number = 0\n",
    "    power = len(binary_str) - 1\n",
    "    \n",
    "    for bit in binary_str:\n",
    "        decimal_number += int(bit) * (2 ** power)\n",
    "        power -= 1\n",
    "    \n",
    "    return decimal_number"
   ]
  },
  {
   "cell_type": "markdown",
   "id": "d0621420-8abb-45aa-9277-5ba7ffcb19be",
   "metadata": {},
   "source": [
    "# How `binaryToDecimal(binary_str)` function works: \n",
    "1. Define a function named binaryToDecimal(binary_str) that converts a binary number to its decimal equivalent. This function takes a binary string as input.\n",
    "2. Initialize a variable decimal_number to 0 to store the decimal equivalent.\n",
    "3. Calculate the power as the length of the binary string minus 1.\n",
    "4. Iterate over each bit in the binary string.\n",
    "4. Convert the bit to an integer and multiply it by 2 raised to the power.\n",
    "5. Add the result to decimal_number.\n",
    "6. Decrement the power by 1.\n",
    "7. Return decimal_number as the decimal equivalent."
   ]
  },
  {
   "cell_type": "code",
   "execution_count": 7,
   "id": "96dabaab-942a-447b-a281-0444e37f8947",
   "metadata": {},
   "outputs": [
    {
     "name": "stdin",
     "output_type": "stream",
     "text": [
      "Enter a binary number:  10101\n"
     ]
    },
    {
     "name": "stdout",
     "output_type": "stream",
     "text": [
      "Decimal equivalent: 21\n"
     ]
    }
   ],
   "source": [
    "# Prompt the user to enter a binary number and store it in a variable named 'binary':\n",
    "binary = input(\"Enter a binary number: \")\n",
    "# Use a while loop to repeatedly ask for a binary number until a valid binary number is entered,\n",
    "# call the CheckTheValidationOfInput() function to check the validity of the binary number.\n",
    "while (CheckTheValidationOfInput(binary)==False): \n",
    "    #If the binary number is not valid, prompt the user again.\n",
    "    binary = input(\"Input is not a valid binary number, Enter a binary number: \")\n",
    "# If the binary number is valid, call the binaryToDecimal() function \n",
    "#to convert the binary number to its decimal equivalent and store it in a variable named decimal.\n",
    "else: \n",
    "    decimal = binaryToDecimal(binary)\n",
    "\n",
    "print(\"Decimal equivalent:\", decimal) # display the equivalent decimal number on the screen."
   ]
  }
 ],
 "metadata": {
  "kernelspec": {
   "display_name": "Python 3 (ipykernel)",
   "language": "python",
   "name": "python3"
  },
  "language_info": {
   "codemirror_mode": {
    "name": "ipython",
    "version": 3
   },
   "file_extension": ".py",
   "mimetype": "text/x-python",
   "name": "python",
   "nbconvert_exporter": "python",
   "pygments_lexer": "ipython3",
   "version": "3.10.9"
  }
 },
 "nbformat": 4,
 "nbformat_minor": 5
}
