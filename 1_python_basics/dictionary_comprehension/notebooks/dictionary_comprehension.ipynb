{
 "cells": [
  {
   "cell_type": "markdown",
   "id": "bb353c66-f615-421d-a52c-35c4b4570e41",
   "metadata": {},
   "source": [
    "# Question 1: Python Basics?\n",
    "### D- Using Dictionary comprehension, Generate this dictionary d={0:1,1:2,2:3,3:4,4:5,5:6,6:7,7:8,8:9,9:10,10:11}"
   ]
  },
  {
   "cell_type": "markdown",
   "id": "b9eef14f-ca64-4565-80b4-c9d616d9ea02",
   "metadata": {},
   "source": [
    "# Understanding the problem:\n",
    "* The problem involves creating a dictionary where each key is a number from 0 to 10 and each value is the key plus one.\n",
    "### Step-by-Step Algorithm:\n",
    "1. Initialize a range of keys: The keys are numbers from 0 to 10.\n",
    "2. Calculate the value for each key: For each key i, the value is i + 1.\n",
    "3. Construct the dictionary using comprehension:\n",
    "   - Use a loop within a dictionary comprehension to iterate through the range of keys.\n",
    "   -  For each key in the range, assign the value as key + 1."
   ]
  },
  {
   "cell_type": "code",
   "execution_count": 3,
   "id": "07bacb58-42d9-49bf-a58f-ebdfb9ed00ac",
   "metadata": {},
   "outputs": [],
   "source": [
    "# Create the dictionary using dictionary comprehension\n",
    "d = {i: i + 1 for i in range(11)}"
   ]
  },
  {
   "cell_type": "code",
   "execution_count": 4,
   "id": "2b5e5c1e-d7be-48b2-8220-9e899ca3a324",
   "metadata": {},
   "outputs": [
    {
     "name": "stdout",
     "output_type": "stream",
     "text": [
      "{0: 1, 1: 2, 2: 3, 3: 4, 4: 5, 5: 6, 6: 7, 7: 8, 8: 9, 9: 10, 10: 11}\n"
     ]
    }
   ],
   "source": [
    "# Print the resulting dictionary to verify\n",
    "print(d)"
   ]
  }
 ],
 "metadata": {
  "kernelspec": {
   "display_name": "Python 3 (ipykernel)",
   "language": "python",
   "name": "python3"
  },
  "language_info": {
   "codemirror_mode": {
    "name": "ipython",
    "version": 3
   },
   "file_extension": ".py",
   "mimetype": "text/x-python",
   "name": "python",
   "nbconvert_exporter": "python",
   "pygments_lexer": "ipython3",
   "version": "3.10.9"
  }
 },
 "nbformat": 4,
 "nbformat_minor": 5
}
