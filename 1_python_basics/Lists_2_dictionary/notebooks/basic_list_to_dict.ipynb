{
 "cells": [
  {
   "cell_type": "markdown",
   "id": "f950742d-ae58-46e0-9ffb-097f510e70f4",
   "metadata": {},
   "source": [
    "# Question 1: Python Basics?\n",
    "### 1. If you have two lists, L1=[‘HTTP’,’HTTPS’,’FTP’,’DNS’] L2=[80,443,21,53], \n",
    "### convert it to generate this dictionary d={‘HTTP’:80,’HTTPS’:443,’FTP’:21,’DNS’:53 }"
   ]
  },
  {
   "cell_type": "markdown",
   "id": "90aa0570-4ff3-4e69-9a83-44f4e7a07857",
   "metadata": {},
   "source": [
    "# ------------- Naive Solution ---------------"
   ]
  },
  {
   "cell_type": "code",
   "execution_count": 2,
   "id": "c41c600f-45a1-4265-a908-bc2f77aadef1",
   "metadata": {},
   "outputs": [],
   "source": [
    "#initializing two lists, L1 and L2 \n",
    "# L1 contain different types of network protocols and L2 contain their corresponding port numbers:\n",
    "L1=['HTTP','HTTPS','FTP','DNS'] \n",
    "L2=[80,443,21,53] "
   ]
  },
  {
   "cell_type": "code",
   "execution_count": 4,
   "id": "c8b4b0d0-a7f8-4884-93fb-212d3b425768",
   "metadata": {},
   "outputs": [],
   "source": [
    "# Create an empty dictionary to store the protocols and their corresponding port numbers:\n",
    "d = {}"
   ]
  },
  {
   "cell_type": "code",
   "execution_count": 5,
   "id": "1ede9d3b-dcc5-4084-80be-f64ec5565c5e",
   "metadata": {},
   "outputs": [],
   "source": [
    "# Iterate over each element in the L1 list (network protocols).\n",
    "for key in L1:\n",
    "    # Iterate over each element in the L2 list (port numbers).\n",
    "    for value in L2:\n",
    "        d[key] = value # Assign the current protocol (key) as the key, and the current port number (value) as the value in the dictionary.\n",
    "        L2.remove(value) # Remove the current port number from the L2 list to avoid duplicate assignments.\n",
    "        break # Break out of the inner loop to move to the next protocol in the L1 list."
   ]
  },
  {
   "cell_type": "code",
   "execution_count": 6,
   "id": "1807f625-bf53-4630-b593-152c2becbdcc",
   "metadata": {},
   "outputs": [
    {
     "name": "stdout",
     "output_type": "stream",
     "text": [
      "{'HTTP': 80, 'HTTPS': 443, 'FTP': 21, 'DNS': 53}\n"
     ]
    }
   ],
   "source": [
    "print(d)"
   ]
  }
 ],
 "metadata": {
  "kernelspec": {
   "display_name": "Python 3 (ipykernel)",
   "language": "python",
   "name": "python3"
  },
  "language_info": {
   "codemirror_mode": {
    "name": "ipython",
    "version": 3
   },
   "file_extension": ".py",
   "mimetype": "text/x-python",
   "name": "python",
   "nbconvert_exporter": "python",
   "pygments_lexer": "ipython3",
   "version": "3.10.9"
  }
 },
 "nbformat": 4,
 "nbformat_minor": 5
}
