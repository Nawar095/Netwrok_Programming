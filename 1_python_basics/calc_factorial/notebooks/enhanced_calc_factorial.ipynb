{
 "cells": [
  {
   "cell_type": "markdown",
   "id": "59c706f6-50f6-4b1a-9513-d591ea534209",
   "metadata": {},
   "source": [
    "# Question 1: Python Basics?\n",
    "### B- Write a Python program that calculates the factorial of a given number entered by user."
   ]
  },
  {
   "cell_type": "markdown",
   "id": "316120a5-a647-44c5-a37d-3319ab1c4c5f",
   "metadata": {},
   "source": [
    "## Notes: \n",
    "- A recursive function is a function that calls itself within its own definition. It solves a problem by breaking it down into smaller, simpler subproblems and calling itself to solve each subproblem until a base case is reached."
   ]
  },
  {
   "cell_type": "code",
   "execution_count": 3,
   "id": "fafdfdd2-926e-4846-a804-e91cebc9f68d",
   "metadata": {},
   "outputs": [],
   "source": [
    "# Define a function to calculate the factorial recursively.\n",
    "def factorial(number):\n",
    "    # Check if the number is negative, return an error message.\n",
    "    if number < 0:\n",
    "        return \"Factorical is not defined for negative numbers, Please Enter non-negative integer!\"\n",
    "    # calculate factorial:\n",
    "    return 1 if (number ==1 or number ==0) else number * factorial(number-1) "
   ]
  },
  {
   "cell_type": "markdown",
   "id": "8dec835e-9c77-44f6-b0f4-b717564767ae",
   "metadata": {},
   "source": [
    "- Notes about previous line: `return 1 if (number ==1 or number ==0) else number * factorial(number-1)`\n",
    "- it equals to :    \n",
    "    if number == 0 or number == 1:      \n",
    "            &nbsp;&nbsp;&nbsp;&nbsp; return 1      \n",
    "    return number * factorial(number - 1)      \n",
    "    \n",
    "- Base case: If the number is 0 or 1, return 1.\n",
    "- Recursive case: Calculate the factorial by multiplying the number with the factorial of (number-1)."
   ]
  },
  {
   "cell_type": "code",
   "execution_count": 4,
   "id": "fc81a3b1-7c93-4f80-bc29-bcb918faed56",
   "metadata": {},
   "outputs": [
    {
     "name": "stdout",
     "output_type": "stream",
     "text": [
      "Enter a number to calculate its factorical:  4\n"
     ]
    },
    {
     "name": "stdout",
     "output_type": "stream",
     "text": [
      "Factorial of 4 is: 24\n"
     ]
    }
   ],
   "source": [
    "number = int(input(\"Enter a number to calculate its factorical: \"))\n",
    "## Calculate the factorial using the factorial() function: \n",
    "fact = factorial(number) # Initialize a variable to store the factorial result\n",
    "# Check if the number is negative, print the error message returned by the factorial() function:\n",
    "if number < 0 :\n",
    "    print(fact)\n",
    "else: \n",
    "    print(f\"Factorial of {number} is: {fact}\") # Print the calculated factorial."
   ]
  }
 ],
 "metadata": {
  "kernelspec": {
   "display_name": "Python 3 (ipykernel)",
   "language": "python",
   "name": "python3"
  },
  "language_info": {
   "codemirror_mode": {
    "name": "ipython",
    "version": 3
   },
   "file_extension": ".py",
   "mimetype": "text/x-python",
   "name": "python",
   "nbconvert_exporter": "python",
   "pygments_lexer": "ipython3",
   "version": "3.10.9"
  }
 },
 "nbformat": 4,
 "nbformat_minor": 5
}
