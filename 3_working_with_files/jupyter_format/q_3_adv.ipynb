{
 "cells": [
  {
   "cell_type": "markdown",
   "id": "cab054d3-391e-4283-80d6-3846007e77c6",
   "metadata": {},
   "source": [
    "# Question 3: Working with Files \"Quiz Program\":\n",
    "* Type python quiz program that takes a text or json or csv file as input for (20 (Questions, Answers)). \n",
    "* It asks the questions and finally computes and prints user results and store user name and result in separate file csv or json file.\n",
    "\n",
    "### Problem Explanation:\n",
    "implement a program that reads a file containing questions and answers (JSON, CSV, or text), asks the user each question, calculates their score, and saves their name and score to a separate file (JSON or CSV)."
   ]
  },
  {
   "cell_type": "code",
   "execution_count": 1,
   "id": "45a5b44c-a626-4180-8262-5a1395e5558a",
   "metadata": {},
   "outputs": [],
   "source": [
    "import json # import the json module to work with JSON data.\n",
    "import csv # import the csv module to work with csv data."
   ]
  },
  {
   "cell_type": "code",
   "execution_count": 2,
   "id": "d9cee016-2c09-4832-8b00-3b73797ecdde",
   "metadata": {},
   "outputs": [],
   "source": [
    "#Defint function read_questions_answers() with a single parameter file_path. \n",
    "#'file_path' represents the path to the file containing the questions and answers.\n",
    "# initialize empty lists called questions and answers to store the questions and answers separately.\n",
    "def read_questions_answers(file_path):\n",
    "    questions = []\n",
    "    answers = []\n",
    "    \n",
    "    # checks if the file_path ends with .json, indicating that it is a JSON file:\n",
    "    if file_path.endswith('.json'):\n",
    "        with open(file_path, 'r') as file:\n",
    "            data = json.load(file) # load contents of the JSON file into the 'data' variable, which becomes a list of dictionaries.\n",
    "            # iterates over each item (dictionary) in 'data':   \n",
    "            for item in data:\n",
    "                questions.append(item['question']) # appends the value of the 'question' key to the questions list\n",
    "                answers.append(item['answer']) # the value of the 'answer' key to the answers list.\n",
    "                \n",
    "    # If the 'file_path' does not end with .json but ends with .csv, indicating that it is a CSV file:           \n",
    "    elif file_path.endswith('.csv'):\n",
    "        with open(file_path, 'r') as file: # Opens the file using open() in read mode and assigns the file object to file.\n",
    "            reader = csv.reader(file) # Create a 'reader' object using csv.reader() to read the CSV file.\n",
    "            for row in reader: # Iterates over each row in the 'reader', where each row is a list of values.\n",
    "                questions.append(row[0]) # Appends the first value (row[0]) to the questions list\n",
    "                answers.append(row[1]) # Appends the second value (row[1]) to the answers list.\n",
    "                \n",
    "    #If the file_path does not end with .json or .csv, the function assumes it is a text file.            \n",
    "    else:  \n",
    "        with open(file_path, 'r') as file: # Opens the file in read mode using open() and assigns the file object to 'file'.\n",
    "            for line in file: # Iterates over each line in the file using a for loop.\n",
    "                # For each line, remove leading and trailing whitespace using strip().\n",
    "                # and split the line using split(',') to separate the question and answer, assuming they are comma-separated.\n",
    "                # The question is assigned to question, and the answer is assigned to answer.\n",
    "                question, answer = line.strip().split(',') \n",
    "                # Appends question to the questions list and answer to the answers list.\n",
    "                questions.append(question) # The question is assigned to questions\n",
    "                answers.append(answer) # The answer is assigned to answers\n",
    "                \n",
    "    return questions, answers # returns the questions and answers lists as a tuple."
   ]
  },
  {
   "cell_type": "code",
   "execution_count": 3,
   "id": "154bab68-5b5c-411b-b448-9024984b4c9b",
   "metadata": {},
   "outputs": [],
   "source": [
    "#Define function calculate_score() two parameters: 'questions' and 'answers', representing the lists of questions and corresponding answers.\n",
    "def calculate_score(questions, answers):\n",
    "    score = 0 # initialize a variable 'score' to 0 to keep track of the user's score.\n",
    "    for i in range(len(questions)): # Iterate through each question \n",
    "        # prompt the user with the question number (i+1), followed by the actual question from the questions list:\n",
    "        answer = input(f\"Q{i+1}: {questions[i]} \") # take the user's answer as input and assigns it to 'answr'\n",
    "        # Check if the answer, after removing leading and trailing whitespace using strip() \n",
    "        # and converting it to lowercase using lower(), matches the corresponding answer from the answers list:\n",
    "        if answer.strip().lower() == answers[i].strip().lower():\n",
    "            score += 1 # # If the user answer matches the correct answer, we increment the score by 1\n",
    "    return score #Returns the calculated score."
   ]
  },
  {
   "cell_type": "code",
   "execution_count": 4,
   "id": "f9e402c8-28a5-4a5a-adac-4c12d230884b",
   "metadata": {},
   "outputs": [],
   "source": [
    "#Store user name and result in separate  json file:\n",
    "\n",
    "# Define store_user_name_and_result function with two parameters: 'User_name', and 'score'.\n",
    "def store_user_name_and_result(User_name, score):\n",
    "    # # create a list of dictionaries called result to store the user's name and score.\n",
    "    result = [{\"User Name\": User_name, \"Result\":score}]\n",
    "\n",
    "    # open a new JSON file (results.json) in write mode to store the user name and result: \n",
    "    with open('results.json', 'w') as r:\n",
    "        json.dump(result,r) # write the result list to the JSON file."
   ]
  },
  {
   "cell_type": "code",
   "execution_count": 7,
   "id": "e416eaec-d1fe-49cb-80e9-cbc6e547b4f6",
   "metadata": {},
   "outputs": [
    {
     "name": "stdin",
     "output_type": "stream",
     "text": [
      "Enter your name:  Nawar\n",
      "Q1: What is the capital of Syria?  damascus\n",
      "Q2: What is 2 + 2?  4\n",
      "Q3: What is the chemical symbol for water?  h2o\n",
      "Q4: What does CPU stand for?  central processing unit\n",
      "Q5: What does RAM stand for?  random access memory\n",
      "Q6: Which protocol is used for secure HTTP transactions?  https\n",
      "Q7: What does IP stand for?  internet protocol\n",
      "Q8: What is the longest river in the world?  nile\n",
      "Q9: Who painted the Mona Lisa?  leonardo\n",
      "Q10: What is the largest planet in our solar system?  jupiter\n",
      "Q11: What is the tallest mountain in the world?  mout everest\n",
      "Q12: What is the square root of 81?  9\n",
      "Q13: Who discovered penicillin?  g\n",
      "Q14: Who invented the telephone?  graham bill\n",
      "Q15: Who is the CEO of Tesla?  elon musk\n",
      "Q16: What does HTTP stand for?  hypertext\n",
      "Q17: Which company did Jeff Bezos found?  amazon\n",
      "Q18: What does API stand for?  app\n",
      "Q19: Which programming language is known for its use in web development alongside HTML and CSS?  javascript\n",
      "Q20: Which planet is known as the 'Red Planet'?  mars\n"
     ]
    },
    {
     "name": "stdout",
     "output_type": "stream",
     "text": [
      "Nawar, your score is: 14/20\n"
     ]
    }
   ],
   "source": [
    "# Read questions and answers from the file:\n",
    "Q_A_file = 'questions_answers_file.json'  \n",
    "questions, answers = read_questions_answers(Q_A_file)\n",
    "    \n",
    "#Prompt the user for their name:\n",
    "User_name = input(\"Enter your name: \")\n",
    "    \n",
    "#Ask the questions and calculate the score:\n",
    "score = calculate_score(questions, answers)\n",
    "    \n",
    "# Print the user's score\n",
    "print(f\"{User_name}, your score is: {score}/20\")\n",
    "    \n",
    "# Save the user's name and score to a file\n",
    "result_file = 'results.json'  \n",
    "store_user_name_and_result(User_name, score)"
   ]
  }
 ],
 "metadata": {
  "kernelspec": {
   "display_name": "Python 3 (ipykernel)",
   "language": "python",
   "name": "python3"
  },
  "language_info": {
   "codemirror_mode": {
    "name": "ipython",
    "version": 3
   },
   "file_extension": ".py",
   "mimetype": "text/x-python",
   "name": "python",
   "nbconvert_exporter": "python",
   "pygments_lexer": "ipython3",
   "version": "3.10.9"
  }
 },
 "nbformat": 4,
 "nbformat_minor": 5
}
