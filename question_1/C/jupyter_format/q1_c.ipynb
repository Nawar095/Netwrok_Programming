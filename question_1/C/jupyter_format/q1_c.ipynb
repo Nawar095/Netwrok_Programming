{
 "cells": [
  {
   "cell_type": "markdown",
   "id": "fe8ff7c8-e88c-41e8-a108-6c407dd2ab74",
   "metadata": {},
   "source": [
    "# Question 1: Python Basics?\n",
    "### C- L=[‘Network’ , ’Bio’ , ’Programming’, ‘Physics’ , ‘Music’]\n",
    "In this exercise, you will implement a Python program that reads the items of the previous list and identifies the items that starts with ‘B’ letter, then print it on screen.\n",
    "Tips: using loop, ‘len ()’ , startswith() methods."
   ]
  },
  {
   "cell_type": "markdown",
   "id": "b0d6210f-b961-413e-a63a-70c33fcd7c5f",
   "metadata": {},
   "source": [
    "### Steps to solve the problem: \n",
    "1. Start with the given list L = ['Network', 'Bio', 'Programming', 'Physics', 'Music'].\n",
    "2. Iterate over each item in the list using a loop and the range() function.\n",
    "3. Get the current item from the list using indexing with L[i].\n",
    "4. Check if the current item starts with the letter 'B' using the startswith() method.\n",
    "5. If the condition is true (the current item starts with 'B') print the item.\n",
    "6. Repeat steps 3-5 for each item in the list.\n",
    "7. After the loop finishes, the program will have printed all the items from the list that start with the letter 'B'."
   ]
  },
  {
   "cell_type": "code",
   "execution_count": 3,
   "id": "301f0953-0c0b-4e17-8947-ecd5fa920afd",
   "metadata": {},
   "outputs": [],
   "source": [
    "# Given list\n",
    "L = ['Network', 'Bio', 'Programming', 'Physics', 'Music']"
   ]
  },
  {
   "cell_type": "code",
   "execution_count": 4,
   "id": "9097a832-c6fe-43a1-adfb-b7ce645d1f65",
   "metadata": {},
   "outputs": [
    {
     "name": "stdout",
     "output_type": "stream",
     "text": [
      "Bio\n"
     ]
    }
   ],
   "source": [
    "# Iterate over each item in the list\n",
    "for i in range(len(L)):\n",
    "    # Check if the current item L[i] starts with 'B'\n",
    "    if L[i].startswith('B'):\n",
    "        print(L[i]) # Print the item if it starts with 'B'"
   ]
  }
 ],
 "metadata": {
  "kernelspec": {
   "display_name": "Python 3 (ipykernel)",
   "language": "python",
   "name": "python3"
  },
  "language_info": {
   "codemirror_mode": {
    "name": "ipython",
    "version": 3
   },
   "file_extension": ".py",
   "mimetype": "text/x-python",
   "name": "python",
   "nbconvert_exporter": "python",
   "pygments_lexer": "ipython3",
   "version": "3.10.9"
  }
 },
 "nbformat": 4,
 "nbformat_minor": 5
}
