{
 "cells": [
  {
   "cell_type": "markdown",
   "id": "9ed1275d-8c06-48a1-a913-ab9912203ca1",
   "metadata": {},
   "source": [
    "# Question 1: Python Basics?\n",
    "### 1. If you have two lists, L1=[‘HTTP’,’HTTPS’,’FTP’,’DNS’] L2=[80,443,21,53], \n",
    "### convert it to generate this dictionary d={‘HTTP’:80,’HTTPS’:443,’FTP’:21,’DNS’:53 }"
   ]
  },
  {
   "cell_type": "markdown",
   "id": "dbf639ae-bfd7-4608-a9d0-b822128e0f0e",
   "metadata": {},
   "source": [
    "# ------------- Advanced Solution ---------------\n",
    "### Notes: \n",
    "  - map() function is a built-in function that allows to apply a given function to each item of an iterable (such as a list, tuple, or string) and returns a new list containing the results.\n",
    "  - syntax: map(function, iterable1, iterable2, ...)"
   ]
  },
  {
   "cell_type": "code",
   "execution_count": 1,
   "id": "b7d31d88-11de-406a-a240-8f5c136139d7",
   "metadata": {},
   "outputs": [],
   "source": [
    "#initializing two lists, L1 and L2 \n",
    "# L1 contain different types of network protocols and L2 contain their corresponding port numbers:\n",
    "L1=['HTTP','HTTPS','FTP','DNS'] \n",
    "L2=[80,443,21,53] "
   ]
  },
  {
   "cell_type": "code",
   "execution_count": 2,
   "id": "4c6d1e81-7279-4320-ac0d-1ade68f3a435",
   "metadata": {},
   "outputs": [],
   "source": [
    "d = dict(map(lambda i,j : (i,j) , L1,L2))"
   ]
  },
  {
   "cell_type": "markdown",
   "id": "fd2321a1-eeb2-41df-b7da-11cc53b03177",
   "metadata": {},
   "source": [
    "- lambda i, j: (i, j) takes two parameters, i and j, representing the elements from L1 and L2, respectively, It returns a tuple (i, j).\n",
    "- The map() function applies the lambda function to each pair of elements from L1 and L2 and returns an iterator of tuples.\n",
    "- The dict() function is used to convert the iterator of tuples into a dictionary. \n",
    "- Each tuple (i, j) represents a key-value pair, where i is the network protocol and j is the corresponding port number."
   ]
  },
  {
   "cell_type": "code",
   "execution_count": 3,
   "id": "9e803c33-1626-4ea5-ae81-6c3d768c9150",
   "metadata": {},
   "outputs": [
    {
     "name": "stdout",
     "output_type": "stream",
     "text": [
      "{'HTTP': 80, 'HTTPS': 443, 'FTP': 21, 'DNS': 53}\n"
     ]
    }
   ],
   "source": [
    "print(d)"
   ]
  }
 ],
 "metadata": {
  "kernelspec": {
   "display_name": "Python 3 (ipykernel)",
   "language": "python",
   "name": "python3"
  },
  "language_info": {
   "codemirror_mode": {
    "name": "ipython",
    "version": 3
   },
   "file_extension": ".py",
   "mimetype": "text/x-python",
   "name": "python",
   "nbconvert_exporter": "python",
   "pygments_lexer": "ipython3",
   "version": "3.10.9"
  }
 },
 "nbformat": 4,
 "nbformat_minor": 5
}
