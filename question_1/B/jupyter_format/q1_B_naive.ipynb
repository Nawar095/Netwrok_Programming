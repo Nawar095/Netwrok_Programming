{
 "cells": [
  {
   "cell_type": "markdown",
   "id": "486cf754-4b3d-4d26-938c-bb09a1c4a50f",
   "metadata": {},
   "source": [
    "# Question 1: Python Basics?\n",
    "### B- Write a Python program that calculates the factorial of a given number entered by user."
   ]
  },
  {
   "cell_type": "markdown",
   "id": "f3e48125-77f0-4b54-b587-79839dc49882",
   "metadata": {},
   "source": [
    "## Thinking about the problem: devide it into smaller tasks:\n",
    "- Input: Take user input for the number to calculate its factorial.\n",
    "- Validation: Check if the input is a non-negative integer. If the input is invalid, display an error message and exit the program.\n",
    "- Calculation: If the input is valid, calculate the factorial using a loop or recursive function.\n",
    "- Output: Display the calculated factorial to the user."
   ]
  },
  {
   "cell_type": "code",
   "execution_count": 2,
   "id": "1cb2e7f8-63eb-439d-9ad5-2a2ee18b8026",
   "metadata": {},
   "outputs": [
    {
     "name": "stdout",
     "output_type": "stream",
     "text": [
      "Enter a number to calculate its factorical:  -5\n"
     ]
    },
    {
     "name": "stdout",
     "output_type": "stream",
     "text": [
      "Factorical is not defined for negative numbers, Please Enter non-negative integer!\n"
     ]
    }
   ],
   "source": [
    "# Ask the user to enter a number:\n",
    "number = int(input(\"Enter a number to calculate its factorical: \"))\n",
    "# Check if the input is a non-negative integer. If the input is invalid, display an error message.\n",
    "if number < 0:\n",
    "    print(\"Factorical is not defined for negative numbers, Please Enter non-negative integer!\")\n",
    "# Check if the number is 0 or 1, as the factorial of both is 1\n",
    "elif number == 0 or number == 1:\n",
    "    print(\"Factorial of\", number, \"is:\", 1)\n",
    "# If the number is positive and greater than 1\n",
    "else: \n",
    "    fact = 1 # Initialize a variable to store the factorial result\n",
    "    # Loop from 1 to the number (inclusive) to calculate the factorial\n",
    "    for i in range(1, number+1):\n",
    "        # # Multiply the current value of 'fact' by each number in the range and update fact\n",
    "        fact = fact * i \n",
    "    print(f\"Factorial of {number} is: {fact}\") "
   ]
  }
 ],
 "metadata": {
  "kernelspec": {
   "display_name": "Python 3 (ipykernel)",
   "language": "python",
   "name": "python3"
  },
  "language_info": {
   "codemirror_mode": {
    "name": "ipython",
    "version": 3
   },
   "file_extension": ".py",
   "mimetype": "text/x-python",
   "name": "python",
   "nbconvert_exporter": "python",
   "pygments_lexer": "ipython3",
   "version": "3.10.9"
  }
 },
 "nbformat": 4,
 "nbformat_minor": 5
}
