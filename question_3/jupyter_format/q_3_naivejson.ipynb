{
 "cells": [
  {
   "cell_type": "markdown",
   "id": "e9cc1795-5e8d-4a05-9682-a2985abd6526",
   "metadata": {},
   "source": [
    "# Question 3: Working with Files \"Quiz Program\":\n",
    "* Type python quiz program that takes a text or json or csv file as input for (20 (Questions, Answers)). \n",
    "* It asks the questions and finally computes and prints user results and store user name and result in separate file csv or json file."
   ]
  },
  {
   "cell_type": "markdown",
   "id": "5093cea4-e817-4496-9499-68a0b8e6ffa9",
   "metadata": {},
   "source": [
    "#### Note: \n",
    "I created a 'json' file (\"questions_answers_file.json\"), and the following code is just could be implemented for the json files, In (q_3_adv) file I will enhance the code and make works with other files!"
   ]
  },
  {
   "cell_type": "markdown",
   "id": "5a791364-f9ba-475b-ade5-952335eeb0d9",
   "metadata": {},
   "source": [
    "# Problem Breakdown: \n",
    "1. Read the JSON file containing questions and answers.\n",
    "2. Ask the user for their name.\n",
    "3. Display each question to the user and collect their answers.\n",
    "4. Compute the user's score based on their answers.\n",
    "5. Store the user's name and score in a separate CSV or JSON file.\n",
    "6. Print the user's results."
   ]
  },
  {
   "cell_type": "code",
   "execution_count": 1,
   "id": "3cca12e2-809d-4f76-b3a0-0bd8c514aa07",
   "metadata": {},
   "outputs": [
    {
     "name": "stdin",
     "output_type": "stream",
     "text": [
      "Enter your name:  Nawar\n",
      "What is the capital of Syria?  Damascus\n",
      "What is 2 + 2?  4\n",
      "What is the chemical symbol for water?  H2O\n",
      "What does CPU stand for?  central processing unit\n",
      "What does RAM stand for?  random access memory\n",
      "Which protocol is used for secure HTTP transactions?  https\n",
      "What does IP stand for?  internet protocol\n",
      "What is the longest river in the world?  nile \n",
      "Who painted the Mona Lisa?  leonardo da \n",
      "What is the largest planet in our solar system?  jupyter\n",
      "What is the tallest mountain in the world?  mount everest\n",
      "What is the square root of 81?  9\n",
      "Who discovered penicillin?  henry\n",
      "Who invented the telephone?  graham bill\n",
      "Who is the CEO of Tesla?  elon musk\n",
      "What does HTTP stand for?  hypertext\n",
      "Which company did Jeff Bezos found?  amazon\n",
      "What does API stand for?  application programming interface\n",
      "Which programming language is known for its use in web development alongside HTML and CSS?  javascript\n",
      "Which planet is known as the 'Red Planet'?  mars\n"
     ]
    },
    {
     "name": "stdout",
     "output_type": "stream",
     "text": [
      "[{'User Name': 'Nawar', 'Result': 15}]\n"
     ]
    }
   ],
   "source": [
    "import json #  import the json module to work with JSON data.\n",
    "\n",
    "# Read the JSON file containing questions and answers.\n",
    "with open('questions_answers_file.json') as f:\n",
    "    Q_A_pairs = json.load(f) # load the JSON data from the file into the Q_A_pairs.\n",
    "# initialize empty lists called questions and answers to store the questions and answers separately.\n",
    "questions = []\n",
    "answers = []\n",
    "# Ask the user for their name.\n",
    "User_name = input(\"Enter your name: \")\n",
    "# Iterate through each question-answer pair in Q_A_pairs and append the question and answer to their respective lists.\n",
    "for q in Q_A_pairs:\n",
    "    questions.append(q['question']) # append question to qustions list\n",
    "    answers.append(q['answer']) # append answer to answer list\n",
    "# initialize a variable score to keep track of the user score:\n",
    "score = 0\n",
    "# iterate through each question and ask the user for their answer.\n",
    "for i in range(0, len(questions)):\n",
    "    answer = input(f\"{questions[i]} \")\n",
    "    # Compare the user's answer with the correct answer \n",
    "    if answer.lower().split()== answers[i].lower().split():\n",
    "        # If the user answer matches the correct answer, we increment the score by 1 \n",
    "        score+=1\n",
    "\n",
    "# create a list of dictionaries called result to store the user's name and score.\n",
    "result = [{\"User Name\": User_name, \"Result\":score}]\n",
    "print(result) #  prints user results \n",
    "\n",
    "# open a new JSON file (results.json) in write mode to store the user name and result: \n",
    "with open('results.json', 'w') as r:\n",
    "    json.dump(result,r) # write the result list to the JSON file."
   ]
  }
 ],
 "metadata": {
  "kernelspec": {
   "display_name": "Python 3 (ipykernel)",
   "language": "python",
   "name": "python3"
  },
  "language_info": {
   "codemirror_mode": {
    "name": "ipython",
    "version": 3
   },
   "file_extension": ".py",
   "mimetype": "text/x-python",
   "name": "python",
   "nbconvert_exporter": "python",
   "pygments_lexer": "ipython3",
   "version": "3.10.9"
  }
 },
 "nbformat": 4,
 "nbformat_minor": 5
}
