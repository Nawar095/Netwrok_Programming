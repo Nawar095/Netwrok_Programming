{
 "cells": [
  {
   "cell_type": "markdown",
   "id": "cd355bc3-fae6-4115-be45-c461dfe21c9a",
   "metadata": {},
   "source": [
    "# Question 4 : Object-Oriented Programming - Bank Class\n",
    "- Define a class BankAccount with the following attributes and methods:\n",
    "  - Attributes: account_number (string), account_holder (string), balance (float, initialized to 0.0)\n",
    "  - Methods: deposit(amount), withdraw(amount) , get_balance()\n",
    "- Create an instance of BankAccount:\n",
    "  - Perform a deposit of $1000.                                           \n",
    "  \n",
    "  - Perform a withdrawal of $500.\n",
    "  - Print the current balance after each operation.\n",
    "- Define a subclass SavingsAccount that inherits from BankAccount and:\n",
    "  - adds interest_rate Attribute and\n",
    "  - apply_interest() method that Applies interest to the balance based on the interest rate.\n",
    "  - And Override print() method to print the current balance and rate.\n",
    "  - Create an instance of SavingsAccount , and call apply_interest() and print() functions.\n",
    "\n",
    "## Notes: Definition of some terms for a better understanding of the program\n",
    "- Deposit:\n",
    "    A deposit is the act of adding funds (money) to a bank account. \n",
    "    In the code When we call deposit(amount), it updates the balance attribute of the BankAccount instance by adding the  specified amount to the current balance.\n",
    "    \n",
    "- Withdrawal: \n",
    "    A withdrawal is the act of taking funds out of a bank account. In the code, When we call withdraw(amount), it checks if the balance is sufficient to cover the withdrawal. If so, it subtracts the amount from the balance. If not, it prints an error message indicating insufficient funds.\n",
    "\n",
    "- Balance: \n",
    "    The balance is the amount of money currently available in a bank account. In the code, The balance attribute keeps track of the current amount of money in the account. It is initialized to 0.0 and is modified by the deposit and withdraw methods. You can get the current balance using the get_balance method or by accessing the balance attribute directly.\n",
    "\n",
    "- Interest Rate:\n",
    " The interest rate is the percentage at which interest is calculated on the balance of a savings account. In the code, the interest_rate attribute in the SavingsAccount class is an attribute that determines how much interest is applied to the balance, and it used in the apply_interest() method to calculate the interest. The method multiplies the balance by the interest_rate (divided by 100 to convert from percentage) to determine the interest amount, which is then added to the balance.\n",
    "\n",
    "\n"
   ]
  },
  {
   "cell_type": "code",
   "execution_count": 1,
   "id": "43817ca8-42de-407a-a18b-a95a23173342",
   "metadata": {},
   "outputs": [],
   "source": [
    "# Define a class BankAccount:\n",
    "class BankAccount: \n",
    "    # Attributes:\n",
    "    def __init__(self, account_number, account_holder, balance = 0.0): \n",
    "        self.account_number = account_number\n",
    "        self.account_holder = account_holder\n",
    "        self.balance = balance\n",
    "    # Methods:\n",
    "    def deposit(self,amount):\n",
    "        self.balance += amount \n",
    "        \n",
    "    def withdraw(self, amount):\n",
    "        if self.balance >= amount:\n",
    "            self.balance -= amount\n",
    "        else: \n",
    "            print(\"you don't have enough money on your balance!\")\n",
    "    def get_balance(self):\n",
    "        return self.balance"
   ]
  },
  {
   "cell_type": "code",
   "execution_count": 2,
   "id": "20584876-3a31-46e0-bfda-636296329ccc",
   "metadata": {},
   "outputs": [
    {
     "name": "stdout",
     "output_type": "stream",
     "text": [
      "current balance: 1000.0$\n"
     ]
    }
   ],
   "source": [
    "#Create an instance of BankAccount: \n",
    "instance_1 = BankAccount('25932593', 'Nawar_Atfa')\n",
    "# Perform a deposit of $1000:\n",
    "instance_1.deposit(1000) \n",
    "print(f\"current balance: {instance_1.get_balance()}$\") # Print the current balance"
   ]
  },
  {
   "cell_type": "code",
   "execution_count": 3,
   "id": "b9bcb75c-496c-4ea2-82d2-9d772e4d4f88",
   "metadata": {},
   "outputs": [
    {
     "name": "stdout",
     "output_type": "stream",
     "text": [
      "current balance: 500.0$\n"
     ]
    }
   ],
   "source": [
    "#Perform a withdrawal of $500: \n",
    "instance_1.withdraw(500)\n",
    "print(f\"current balance: {instance_1.get_balance()}$\")# Print the current balance"
   ]
  },
  {
   "cell_type": "code",
   "execution_count": 4,
   "id": "dfe62c85-181a-4245-9478-6b534c167afc",
   "metadata": {},
   "outputs": [],
   "source": [
    "# Define a subclass SavingsAccount that inherits from BankAccount :\n",
    "class SavingsAccount(BankAccount):\n",
    "    def __init__(self, account_number, account_holder, interest_rate, balance = 0.0):\n",
    "        super().__init__(account_number, account_holder, balance)\n",
    "        self.interest_rate = interest_rate # adds interest_rate Attribute\n",
    "        \n",
    "    #define apply_interest() method that Applies interest to the balance based on the interest rate:\n",
    "    def apply_interest(self): \n",
    "        interest = self.balance * self.interest_rate / 100\n",
    "        self.balance += interest\n",
    "        print(f\"Applied interest of {interest}$. New balance: {self.balance}$\")\n",
    "    \n",
    "    #Override print() method to print the current balance and rate.\n",
    "    def __str__(self):\n",
    "        return f\"Balance: {self.balance}$, Interest rate: {self.interest_rate}%\""
   ]
  },
  {
   "cell_type": "code",
   "execution_count": 6,
   "id": "7ee96d2b-faed-4597-92b9-a3d02aff5326",
   "metadata": {},
   "outputs": [
    {
     "name": "stdout",
     "output_type": "stream",
     "text": [
      "Applied interest of 50.0$. New balance: 1050.0$\n",
      "Balance: 1050.0$, Interest rate: 5%\n"
     ]
    }
   ],
   "source": [
    "# Create an instance of SavingsAccount: \n",
    "instance_2 = SavingsAccount('25932593', 'Nawar_Atfa', 5 ) # Applying 5% as interest rate\n",
    "# Perform a deposit of $1000\n",
    "instance_2.deposit(1000)\n",
    "# Call apply_interest()\n",
    "instance_2.apply_interest()\n",
    "# Call Print function, which print the current balance and interest rate using the overridden __str__ method\n",
    "print(instance_2)"
   ]
  }
 ],
 "metadata": {
  "kernelspec": {
   "display_name": "Python 3 (ipykernel)",
   "language": "python",
   "name": "python3"
  },
  "language_info": {
   "codemirror_mode": {
    "name": "ipython",
    "version": 3
   },
   "file_extension": ".py",
   "mimetype": "text/x-python",
   "name": "python",
   "nbconvert_exporter": "python",
   "pygments_lexer": "ipython3",
   "version": "3.10.9"
  }
 },
 "nbformat": 4,
 "nbformat_minor": 5
}
